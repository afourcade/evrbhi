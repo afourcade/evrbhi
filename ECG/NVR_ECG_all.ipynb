{
 "cells": [
  {
   "cell_type": "markdown",
   "id": "2e813bee",
   "metadata": {},
   "source": [
    "# ECG feature extraction\n",
    "### Process R-peak data into IBI and HRV features.\n",
    "### Create a dataframe for LMM analysis in R.\n",
    "#### 2024 by Antonin Fourcade"
   ]
  },
  {
   "cell_type": "code",
   "execution_count": 1,
   "id": "a84aa3d1",
   "metadata": {},
   "outputs": [],
   "source": [
    "%matplotlib inline\n",
    "# Import packages\n",
    "import pandas as pd\n",
    "import numpy as np\n",
    "import matplotlib.pyplot as plt\n",
    "from scipy.io import loadmat, savemat\n",
    "\n",
    "# Custom functions\n",
    "from nvr_ecg_functions import castToList, heart_extract, NVR_ecg_features\n",
    "\n",
    "# Parameters for plotting\n",
    "plt.rcParams[\"figure.figsize\"] = [20, 14]\n",
    "plt.rcParams[\"axes.titlesize\"] = 20\n",
    "plt.rcParams[\"axes.labelsize\"] = 20\n",
    "plt.rcParams[\"xtick.labelsize\"] = 20\n",
    "plt.rcParams[\"ytick.labelsize\"] = 20\n",
    "plt.rcParams[\"legend.fontsize\"] = 20\n",
    "plt.rcParams[\"figure.autolayout\"] = True"
   ]
  },
  {
   "cell_type": "code",
   "execution_count": 2,
   "id": "67b0491f",
   "metadata": {},
   "outputs": [],
   "source": [
    "# Parameters\n",
    "m_conds = ['mov', 'nomov'] # head movements conditions\n",
    "a_conds = ['LA', 'HA'] # emotional arousal conditions\n",
    "c_styles = 'SBA' # rollercoaster sequence: Space-Break-Andes\n",
    "sampling_freq = 250 # ECG sampling frequency (Hz)\n",
    "show_fig = 0; # 1: show IBI, LP and ratings plots for each SJ, 0: do not show\n",
    "\n",
    "fs = 1 # sampling frequency for the ECG features: IBI, LF-HRV, HF-HRV\n",
    "lf = [0.04, 0.15] # low frequency band for HRV, in Hz\n",
    "hf = [0.15, 0.4] # high frequency band for HRV, in Hz\n",
    "\n",
    "# length of the data in seconds to mirror at the beginning and at the end of the data\n",
    "mirror_len=80\n",
    "# length of the mirrored data in seconds to keep at the beginning and at the end of the data\n",
    "cut=35\n",
    "\n",
    "# Paths to the data and for saving\n",
    "path_data = 'D:/NeVRo/Data/ECG/'\n",
    "path_rpeak = path_data + 'R-peak_time_series/'\n",
    "path_ibi = path_data + 'IBI/'\n",
    "path_hrv = path_data + 'HRV/'\n",
    "path_ar = path_data + '/ratings/class_bins/'\n",
    "\n",
    "# Initialize the dictionary to store the data\n",
    "ecg_features = {\n",
    "    'mov': [],\n",
    "    'nomov': []\n",
    "}\n",
    "\n",
    "# All mov are included in nomov, but nomov have more SJs\n",
    "SJs_nomov = [2, 4, 5, 6, 7, 8, 9, 11, 13, 14, 15, 17, 18, 20, 21, 22, 24, 25, 26, 27, 28, 29, 30, 31, 34, 36, 37, 39, 44]\n",
    "SJs_mov = [2, 4, 5, 6, 8, 9, 11, 13, 14, 17, 18, 20, 21, 22, 24, 25, 27, 28, 29, 31, 34, 36, 37, 39, 44]"
   ]
  },
  {
   "cell_type": "markdown",
   "id": "2160390a",
   "metadata": {},
   "source": [
    "# Get the ECG features for each SJ and each mov condition"
   ]
  },
  {
   "cell_type": "code",
   "execution_count": null,
   "id": "5fcc2512",
   "metadata": {},
   "outputs": [],
   "source": [
    "# BE CAREFUL IT TAKES A LONG TIME (~2.5H)!\n",
    "# Process R-peak data to compute Inter-Beat Intervals (IBI) and Heart Rate Variability (HRV) data.\n",
    "for mc, m_cond in enumerate(m_conds):\n",
    "    path_in_rpeak = path_rpeak + m_cond + '/'\n",
    "    path_out_ibi = path_ibi + m_cond + '/'\n",
    "    path_out_hrv = path_hrv + m_cond + '/'\n",
    "    heart_extract(path_in_rpeak, path_out_ibi, path_out_hrv, m_cond, fs, lf=lf, hf=hf, mirror_len=mirror_len, cut=cut, fig=show_fig)"
   ]
  },
  {
   "cell_type": "markdown",
   "id": "84867234",
   "metadata": {},
   "source": [
    "---------------------------------"
   ]
  },
  {
   "cell_type": "code",
   "execution_count": null,
   "id": "ee26151e",
   "metadata": {},
   "outputs": [],
   "source": [
    "# Process data to extract ibi and hrv features \n",
    "# (e.g remove mirror padding, z-score, select HA and LA samples)\n",
    "# Loop over the movement conditions:\n",
    "for mc, m_cond in enumerate(m_conds):\n",
    "    path_in_rpeak = path_rpeak + m_cond + '/'\n",
    "    path_in_ibi = path_ibi + m_cond + '/'\n",
    "    path_in_hrv = path_hrv + m_cond + '/'\n",
    "    path_in_ar = path_ar + m_cond + '/' + c_styles + '/'\n",
    "    ecg_features[m_cond] = NVR_ecg_features(path_in_rpeak, path_in_ibi, path_in_hrv, path_in_ar, cut=cut, fig=show_fig)        "
   ]
  },
  {
   "cell_type": "code",
   "execution_count": null,
   "id": "72207f27",
   "metadata": {},
   "outputs": [],
   "source": [
    "# Save ecg_features into file\n",
    "filename_mat = 'ecg_features.mat'\n",
    "savemat(path_data + filename_mat, ecg_features)"
   ]
  },
  {
   "cell_type": "markdown",
   "id": "2ca14e2d",
   "metadata": {},
   "source": [
    "# Prepare data for Linear Mixed Modeling (LMM) in R"
   ]
  },
  {
   "cell_type": "code",
   "execution_count": null,
   "id": "61bd0018",
   "metadata": {},
   "outputs": [],
   "source": [
    "# Load ecg_features from file\n",
    "ecg_features = loadmat(path_data + 'ecg_features.mat', simplify_cells=True)"
   ]
  },
  {
   "cell_type": "code",
   "execution_count": 7,
   "id": "98645cd5",
   "metadata": {},
   "outputs": [],
   "source": [
    "# Create a design dataframe for the statistical analysis\n",
    "design = []\n",
    "for i, subj in enumerate(SJs_nomov):\n",
    "    if subj not in SJs_mov:\n",
    "        mov_conds = ['nomov']\n",
    "    else:\n",
    "        mov_conds = m_conds\n",
    "    for m in mov_conds:\n",
    "        if m == 'mov':\n",
    "            sj_idx = SJs_mov.index(subj)\n",
    "        else:\n",
    "            sj_idx = i\n",
    "        for a in a_conds:\n",
    "            ibi = castToList(ecg_features[m][sj_idx][a + '_ibi'])\n",
    "            hrv_lf = castToList(ecg_features[m][sj_idx][a + '_hrv_lf'])\n",
    "            hrv_hf = castToList(ecg_features[m][sj_idx][a + '_hrv_hf'])\n",
    "            ratioLFHF = castToList(ecg_features[m][sj_idx][a + '_ratioLFHF'])\n",
    "            #\n",
    "            z_ibi = castToList(ecg_features[m][sj_idx][a + '_z_ibi'])\n",
    "            z_hrv_lf = castToList(ecg_features[m][sj_idx][a + '_z_hrv_lf'])\n",
    "            z_hrv_hf = castToList(ecg_features[m][sj_idx][a + '_z_hrv_hf'])\n",
    "            z_ratioLFHF = castToList(ecg_features[m][sj_idx][a + '_z_ratioLFHF'])\n",
    "            for s, s_ibi in enumerate(ibi):\n",
    "                design.append([subj, m, a,\n",
    "                               ibi[s], hrv_lf[s], hrv_hf[s], ratioLFHF[s],\n",
    "                               z_ibi[s], z_hrv_lf[s], z_hrv_hf[s], z_ratioLFHF[s],\n",
    "                               ])"
   ]
  },
  {
   "cell_type": "code",
   "execution_count": 8,
   "id": "f56154ec",
   "metadata": {},
   "outputs": [],
   "source": [
    "# Convert into a pandas dataframe\n",
    "design_df = pd.DataFrame(design, columns=['SJ', 'mov_cond', 'arousal',\n",
    "                                          'ibi', 'hrv_lf', 'hrv_hf', 'ratio_lfhf',\n",
    "                                          'z_ibi', 'z_hrv_lf', 'z_hrv_hf', 'z_ratio_lfhf',\n",
    "                                          ])"
   ]
  },
  {
   "cell_type": "code",
   "execution_count": 10,
   "id": "e565ef21",
   "metadata": {},
   "outputs": [],
   "source": [
    "# Save the design dataframe into a csv file\n",
    "filename = path_data + 'nvr_ecg_features.csv'\n",
    "design_df.to_csv(filename, index=False, na_rep ='NaN')"
   ]
  },
  {
   "cell_type": "code",
   "execution_count": null,
   "id": "ed75218d",
   "metadata": {},
   "outputs": [],
   "source": []
  }
 ],
 "metadata": {
  "kernelspec": {
   "display_name": "Python 3 (ipykernel)",
   "language": "python",
   "name": "python3"
  },
  "language_info": {
   "codemirror_mode": {
    "name": "ipython",
    "version": 3
   },
   "file_extension": ".py",
   "mimetype": "text/x-python",
   "name": "python",
   "nbconvert_exporter": "python",
   "pygments_lexer": "ipython3",
   "version": "3.9.7"
  }
 },
 "nbformat": 4,
 "nbformat_minor": 5
}
