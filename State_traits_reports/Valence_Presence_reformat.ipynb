{
 "cells": [
  {
   "cell_type": "markdown",
   "id": "5517f310",
   "metadata": {},
   "source": [
    "# Reformat Valence_Presence.csv for LMM in R\n",
    "----------------------------\n",
    "### 2024 by Antonin Fourcade\n",
    "----------------------------"
   ]
  },
  {
   "cell_type": "code",
   "execution_count": 1,
   "id": "2ca2b50e",
   "metadata": {},
   "outputs": [],
   "source": [
    "import matplotlib.pyplot as plt\n",
    "import pandas as pd\n",
    "import numpy as np\n",
    "\n",
    "data_path = 'E:/NeVRo/Data/ratings/Valence_Presence/'\n",
    "\n",
    "# All mov are included in nomov, but nomov have more SJs\n",
    "sjs = {\n",
    "    \"nomov\": [2, 4, 5, 6, 7, 8, 9, 11, 13, 14, 15, 17, 18, 20, 21, 22, 24, 25, 26, 27, 28, 29, 30, 31, 34, 36, 37, 39, 44],\n",
    "    \"mov\": [2, 4, 5, 6, 8, 9, 11, 13, 14, 17, 18, 20, 21, 22, 24, 25, 27, 28, 29, 31, 34, 36, 37, 39, 44]   \n",
    "      }"
   ]
  },
  {
   "cell_type": "code",
   "execution_count": null,
   "id": "bfdc9956",
   "metadata": {},
   "outputs": [],
   "source": [
    "# Import original dataset\n",
    "df = pd.read_csv(data_path + 'Valence_Presence.csv', header=0, sep=',', na_values='NaN', nrows=45)"
   ]
  },
  {
   "cell_type": "code",
   "execution_count": null,
   "id": "611c2547",
   "metadata": {},
   "outputs": [],
   "source": [
    "#Select only participants good for analysis\n",
    "df_select=pd.DataFrame()\n",
    "for i, sj in enumerate(sjs['nomov']):\n",
    "    df_select = df_select.append(df.loc[df['SUBJECT']== sj])"
   ]
  },
  {
   "cell_type": "markdown",
   "id": "9dd8cfba",
   "metadata": {},
   "source": [
    "# Reformat the dataset"
   ]
  },
  {
   "cell_type": "code",
   "execution_count": null,
   "id": "e20f64d2",
   "metadata": {},
   "outputs": [],
   "source": [
    "# new conditions: subject, rollercoaster, head movement, order of runs\n",
    "ratings = pd.DataFrame({'sj':[], 'rc':[], 'mov_cond':[], 'order':[], 'valence':[], 'presence':[]})\n",
    "ratings"
   ]
  },
  {
   "cell_type": "code",
   "execution_count": null,
   "id": "f505862b",
   "metadata": {},
   "outputs": [],
   "source": [
    "ratings['sj'] = np.repeat(df_select['SUBJECT'], 4)\n",
    "ratings['rc'] = np.tile(['Space', 'Andes'], 58)\n",
    "#ratings['order'] = np.tile([1,2,3,4], 29)\n",
    "ratings['order'] = np.tile([1,1,2,2], 29)\n",
    "ratings"
   ]
  },
  {
   "cell_type": "code",
   "execution_count": 55,
   "id": "8cce73ba",
   "metadata": {},
   "outputs": [
    {
     "data": {
      "text/html": [
       "<div>\n",
       "<style scoped>\n",
       "    .dataframe tbody tr th:only-of-type {\n",
       "        vertical-align: middle;\n",
       "    }\n",
       "\n",
       "    .dataframe tbody tr th {\n",
       "        vertical-align: top;\n",
       "    }\n",
       "\n",
       "    .dataframe thead th {\n",
       "        text-align: right;\n",
       "    }\n",
       "</style>\n",
       "<table border=\"1\" class=\"dataframe\">\n",
       "  <thead>\n",
       "    <tr style=\"text-align: right;\">\n",
       "      <th></th>\n",
       "      <th>sj</th>\n",
       "      <th>rc</th>\n",
       "      <th>mov_cond</th>\n",
       "      <th>order</th>\n",
       "      <th>valence</th>\n",
       "      <th>presence</th>\n",
       "    </tr>\n",
       "  </thead>\n",
       "  <tbody>\n",
       "    <tr>\n",
       "      <th>1</th>\n",
       "      <td>2</td>\n",
       "      <td>Space</td>\n",
       "      <td>mov</td>\n",
       "      <td>1</td>\n",
       "      <td>1.0</td>\n",
       "      <td>5.0</td>\n",
       "    </tr>\n",
       "    <tr>\n",
       "      <th>1</th>\n",
       "      <td>2</td>\n",
       "      <td>Andes</td>\n",
       "      <td>mov</td>\n",
       "      <td>1</td>\n",
       "      <td>3.0</td>\n",
       "      <td>6.0</td>\n",
       "    </tr>\n",
       "    <tr>\n",
       "      <th>1</th>\n",
       "      <td>2</td>\n",
       "      <td>Space</td>\n",
       "      <td>nomov</td>\n",
       "      <td>2</td>\n",
       "      <td>-1.0</td>\n",
       "      <td>5.0</td>\n",
       "    </tr>\n",
       "    <tr>\n",
       "      <th>1</th>\n",
       "      <td>2</td>\n",
       "      <td>Andes</td>\n",
       "      <td>nomov</td>\n",
       "      <td>2</td>\n",
       "      <td>2.0</td>\n",
       "      <td>6.0</td>\n",
       "    </tr>\n",
       "    <tr>\n",
       "      <th>3</th>\n",
       "      <td>4</td>\n",
       "      <td>Space</td>\n",
       "      <td>nomov</td>\n",
       "      <td>1</td>\n",
       "      <td>1.0</td>\n",
       "      <td>2.0</td>\n",
       "    </tr>\n",
       "    <tr>\n",
       "      <th>...</th>\n",
       "      <td>...</td>\n",
       "      <td>...</td>\n",
       "      <td>...</td>\n",
       "      <td>...</td>\n",
       "      <td>...</td>\n",
       "      <td>...</td>\n",
       "    </tr>\n",
       "    <tr>\n",
       "      <th>38</th>\n",
       "      <td>39</td>\n",
       "      <td>Andes</td>\n",
       "      <td>mov</td>\n",
       "      <td>2</td>\n",
       "      <td>1.0</td>\n",
       "      <td>3.0</td>\n",
       "    </tr>\n",
       "    <tr>\n",
       "      <th>43</th>\n",
       "      <td>44</td>\n",
       "      <td>Space</td>\n",
       "      <td>mov</td>\n",
       "      <td>1</td>\n",
       "      <td>2.0</td>\n",
       "      <td>3.0</td>\n",
       "    </tr>\n",
       "    <tr>\n",
       "      <th>43</th>\n",
       "      <td>44</td>\n",
       "      <td>Andes</td>\n",
       "      <td>mov</td>\n",
       "      <td>1</td>\n",
       "      <td>3.0</td>\n",
       "      <td>5.0</td>\n",
       "    </tr>\n",
       "    <tr>\n",
       "      <th>43</th>\n",
       "      <td>44</td>\n",
       "      <td>Space</td>\n",
       "      <td>nomov</td>\n",
       "      <td>2</td>\n",
       "      <td>0.0</td>\n",
       "      <td>2.0</td>\n",
       "    </tr>\n",
       "    <tr>\n",
       "      <th>43</th>\n",
       "      <td>44</td>\n",
       "      <td>Andes</td>\n",
       "      <td>nomov</td>\n",
       "      <td>2</td>\n",
       "      <td>1.0</td>\n",
       "      <td>3.0</td>\n",
       "    </tr>\n",
       "  </tbody>\n",
       "</table>\n",
       "<p>116 rows × 6 columns</p>\n",
       "</div>"
      ],
      "text/plain": [
       "    sj     rc mov_cond  order  valence  presence\n",
       "1    2  Space      mov      1      1.0       5.0\n",
       "1    2  Andes      mov      1      3.0       6.0\n",
       "1    2  Space    nomov      2     -1.0       5.0\n",
       "1    2  Andes    nomov      2      2.0       6.0\n",
       "3    4  Space    nomov      1      1.0       2.0\n",
       "..  ..    ...      ...    ...      ...       ...\n",
       "38  39  Andes      mov      2      1.0       3.0\n",
       "43  44  Space      mov      1      2.0       3.0\n",
       "43  44  Andes      mov      1      3.0       5.0\n",
       "43  44  Space    nomov      2      0.0       2.0\n",
       "43  44  Andes    nomov      2      1.0       3.0\n",
       "\n",
       "[116 rows x 6 columns]"
      ]
     },
     "execution_count": 55,
     "metadata": {},
     "output_type": "execute_result"
    }
   ],
   "source": [
    "# mov=1; nomov=2\n",
    "for i in df_select['SUBJECT']:\n",
    "    #valence\n",
    "    ratings.loc[df_select[\"SUBJECT\"] == i, \"valence\"] = [df_select.loc[df_select[\"SUBJECT\"] == i, \"V_1\"].iloc[0], df_select.loc[df_select[\"SUBJECT\"] == i, \"V_2\"].iloc[0], df_select.loc[df_select[\"SUBJECT\"] == i, \"V_3\"].iloc[0], df_select.loc[df_select[\"SUBJECT\"] == i, \"V_4\"].iloc[0]]\n",
    "    #presence\n",
    "    ratings.loc[df_select[\"SUBJECT\"] == i, \"presence\"] = [df_select.loc[df_select[\"SUBJECT\"] == i, \"P_1\"].iloc[0], df_select.loc[df_select[\"SUBJECT\"] == i, \"P_2\"].iloc[0], df_select.loc[df_select[\"SUBJECT\"] == i, \"P_3\"].iloc[0], df_select.loc[df_select[\"SUBJECT\"] == i, \"P_4\"].iloc[0]]\n",
    "    #mov_cond\n",
    "    if df_select.loc[df_select[\"SUBJECT\"] == i, \"Condition\"].iloc[0] == 12:\n",
    "        ratings.loc[df_select[\"SUBJECT\"] == i, \"mov_cond\"] = ['mov', 'mov', 'nomov', 'nomov']\n",
    "    elif df_select.loc[df_select[\"SUBJECT\"] == i, \"Condition\"].iloc[0] == 21:\n",
    "        ratings.loc[df_select[\"SUBJECT\"] == i, \"mov_cond\"] = ['nomov', 'nomov', 'mov', 'mov']\n",
    "ratings"
   ]
  },
  {
   "cell_type": "code",
   "execution_count": 56,
   "id": "18b32945",
   "metadata": {},
   "outputs": [],
   "source": [
    "ratings.to_csv(data_path + 'Valence_Presence_reformat.csv', sep=',')"
   ]
  },
  {
   "cell_type": "code",
   "execution_count": null,
   "id": "012a7d36",
   "metadata": {},
   "outputs": [],
   "source": []
  }
 ],
 "metadata": {
  "kernelspec": {
   "display_name": "Python 3 (ipykernel)",
   "language": "python",
   "name": "python3"
  },
  "language_info": {
   "codemirror_mode": {
    "name": "ipython",
    "version": 3
   },
   "file_extension": ".py",
   "mimetype": "text/x-python",
   "name": "python",
   "nbconvert_exporter": "python",
   "pygments_lexer": "ipython3",
   "version": "3.10.8"
  }
 },
 "nbformat": 4,
 "nbformat_minor": 5
}
