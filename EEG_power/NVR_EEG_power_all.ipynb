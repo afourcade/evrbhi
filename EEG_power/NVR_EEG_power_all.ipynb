{
 "cells": [
  {
   "cell_type": "code",
   "execution_count": 4,
   "id": "8c908f02",
   "metadata": {},
   "outputs": [],
   "source": [
    "# Import packages\n",
    "import mne\n",
    "import scipy\n",
    "import os\n",
    "import glob\n",
    "import matplotlib.pyplot as plt\n",
    "import numpy as np\n",
    "import fooof\n",
    "from scipy.io import loadmat, savemat\n",
    "import pandas as pd\n",
    "\n",
    "# Custom functions\n",
    "from nvr_eeg_power_functions_new import castToList, eeg_pow_extract, NVR_eeg_features"
   ]
  },
  {
   "cell_type": "markdown",
   "id": "ca2d32a7",
   "metadata": {},
   "source": [
    "# EEG feature extraction\n",
    "### Extract from EEG data the delta, theta, alpha, beta and gamma frequency band power time-series.\n",
    "### Create a dataframe for LMM analysis in R.\n",
    "#### 2024 by Antonin Fourcade"
   ]
  },
  {
   "cell_type": "code",
   "execution_count": 5,
   "id": "eab00c85",
   "metadata": {},
   "outputs": [],
   "source": [
    "# Define frequency bands of interest\n",
    "# delta (δ; 0–4 Hz), theta (θ; 4–8 Hz), alpha (α; 8–12 Hz), beta (β; 12–ƒ30 Hz) and gamma (γ; 30–45 Hz).\n",
    "bands = fooof.bands.Bands({'delta' : [0.3, 4],\n",
    "                           'theta' : [4, 8],\n",
    "                           'alpha' : [8, 13], \n",
    "                           'beta' : [13, 30],\n",
    "                           'gamma': [30, 45]})\n",
    "\n",
    "# Define ROI\n",
    "roi = ['Pz', 'P3', 'P4', 'P7', 'P8', 'O1', 'O2', 'Oz']\n",
    "\n",
    "# Path to EEG montage\n",
    "mon_path = 'E:/NeVRo/Nevro_montage.loc'\n",
    "\n",
    "# Parameters\n",
    "m_conds = ['mov', 'nomov'] # head movements conditions\n",
    "a_conds = ['LA', 'HA'] # emotional arousal conditions\n",
    "c_styles = 'SBA' # rollercoaster sequence: Space-Break-Andes\n",
    "\n",
    "# Parameters for filtering, TFR and power integration\n",
    "fs = 250 # EEG sampling frequency (Hz)\n",
    "hpf_freq = 0.3 # high-pass filter frequency (Hz)\n",
    "lpf_freq = 45 # low-pass filter frequency (Hz)\n",
    "len_win = 2  # 2s window\n",
    "overlap = 0.5  # 50% overlap\n",
    "freqs = np.arange(0.5, 125.5, 0.5)  # resolution 0.5Hz\n",
    "times = np.arange(1, 270, 1)  # resolution 1s\n",
    "\n",
    "# length of the data in seconds to mirror at the beginning and at the end of the data\n",
    "mirror_len=80\n",
    "# length of the data in seconds to mirror at the beginning and at the end of the break\n",
    "mirror_break=30\n",
    "# length of the mirrored data in seconds to keep at the beginning and at the end of the data \n",
    "cut=35\n",
    "\n",
    "# Paths to the data and for saving\n",
    "path_data = 'E:/NeVRo/Data/'\n",
    "path_eeg = path_data + '13_eeglab2mne/'\n",
    "path_fbp = path_data + 'Frequency_Bands_Power/'\n",
    "path_pwr = path_fbp + 'EEG_pow/'\n",
    "path_pwr_roi = path_fbp + 'ROI_EEG_pow/'\n",
    "path_ar = path_data + 'ratings/class_bins/'\n",
    "\n",
    "# Initialize the dictionary to store the data\n",
    "eeg_features = {\n",
    "    'mov': [],\n",
    "    'nomov': []\n",
    "}\n",
    "\n",
    "# All mov are included in nomov, but nomov have more SJs\n",
    "SJs_nomov = [2, 4, 5, 6, 7, 8, 9, 11, 13, 14, 15, 17, 18, 20, 21, 22, 24, 25, 26, 27, 28, 29, 30, 31, 34, 36, 37, 39, 44]\n",
    "SJs_mov = [2, 4, 5, 6, 8, 9, 11, 13, 14, 17, 18, 20, 21, 22, 24, 25, 27, 28, 29, 31, 34, 36, 37, 39, 44]"
   ]
  },
  {
   "cell_type": "markdown",
   "id": "a894f5f0",
   "metadata": {},
   "source": [
    "# Get the eeg_features parameters for each SJ and each mov condition"
   ]
  },
  {
   "cell_type": "code",
   "execution_count": 6,
   "id": "cfa0e0f6",
   "metadata": {},
   "outputs": [],
   "source": [
    "# BE CAREFUL IT TAKES A LONG TIME (~2.5H)!\n",
    "# Get the frequency bands powers \n",
    "for mc, m_cond in enumerate(m_conds):\n",
    "        path_in_eeg = path_eeg + m_cond + '/' + c_styles + '/'\n",
    "        path_out_pwr = path_pwr + m_cond + '/' + c_styles + '/'\n",
    "        path_out_pwr_roi = path_pwr_roi + m_cond + '/' + c_styles + '/'\n",
    "        eeg_pow_extract(path_in_eeg, path_out_pwr, path_out_pwr_roi, mon_path, roi, fs, bands, freqs, len_win, overlap, hpf_freq, lpf_freq, mirror_len, mirror_break, cut)\n",
    "        "
   ]
  },
  {
   "cell_type": "markdown",
   "id": "1c5db50d",
   "metadata": {},
   "source": [
    "------------------------------------------------------------------------------------------------------------------"
   ]
  },
  {
   "cell_type": "code",
   "execution_count": null,
   "id": "74f61039",
   "metadata": {},
   "outputs": [],
   "source": [
    "# Process data to extract frequency bands powers features \n",
    "# (e.g remove mirror padding, z-score, select HA and LA samples)\n",
    "# Loop over the movement conditions:\n",
    "for mc, m_cond in enumerate(m_conds):\n",
    "    path_in_eeg_pow = path_pwr_roi + m_cond + '/' + c_styles + '/'\n",
    "    path_in_ar = path_ar + m_cond + '/' + c_styles + '/'\n",
    "    eeg_features[m_cond] = NVR_eeg_features(path_in_eeg_pow, path_in_ar, roi, cut)"
   ]
  },
  {
   "cell_type": "code",
   "execution_count": null,
   "id": "fae42774",
   "metadata": {},
   "outputs": [],
   "source": [
    "# Save eeg_features into file\n",
    "filename_pwr = 'eeg_features.mat'\n",
    "savemat(path_pwr_roi + filename_pwr, eeg_features)"
   ]
  },
  {
   "cell_type": "markdown",
   "id": "e035b7a9",
   "metadata": {},
   "source": [
    "# Prepare data for Linear Mixed Modeling (LMM) in R"
   ]
  },
  {
   "cell_type": "code",
   "execution_count": null,
   "id": "74f1360a",
   "metadata": {},
   "outputs": [],
   "source": [
    "# Load eeg_features from file\n",
    "eeg_features = loadmat(path_pwr_roi + 'eeg_features.mat', simplify_cells=True)"
   ]
  },
  {
   "cell_type": "code",
   "execution_count": null,
   "id": "92029330",
   "metadata": {},
   "outputs": [],
   "source": [
    "# Create a design dataframe for the statistical analysis\n",
    "design = []\n",
    "for i, subj in enumerate(SJs_nomov):\n",
    "    if subj not in SJs_mov:\n",
    "        mov_conds = ['nomov']\n",
    "    else:\n",
    "        mov_conds = m_conds\n",
    "    for m in mov_conds:\n",
    "        if m == 'mov':\n",
    "            sj_idx = SJs_mov.index(subj)\n",
    "        else:\n",
    "            sj_idx = i\n",
    "        for a in a_conds:\n",
    "            delta = castToList(eeg_features[m][sj_idx][a + '_delta_meanROI'])\n",
    "            theta = castToList(eeg_features[m][sj_idx][a + '_theta_meanROI'])\n",
    "            alpha = castToList(eeg_features[m][sj_idx][a + '_alpha_meanROI'])\n",
    "            beta = castToList(eeg_features[m][sj_idx][a + '_beta_meanROI'])\n",
    "            gamma = castToList(eeg_features[m][sj_idx][a + '_gamma_meanROI'])\n",
    "            #\n",
    "            z_delta = castToList(eeg_features[m][sj_idx][a + '_z_delta_meanROI'])\n",
    "            z_theta = castToList(eeg_features[m][sj_idx][a + '_z_theta_meanROI'])\n",
    "            z_alpha = castToList(eeg_features[m][sj_idx][a + '_z_alpha_meanROI'])\n",
    "            z_beta = castToList(eeg_features[m][sj_idx][a + '_z_beta_meanROI'])\n",
    "            z_gamma = castToList(eeg_features[m][sj_idx][a + '_z_gamma_meanROI'])\n",
    "            for s, s_delta in enumerate(delta):\n",
    "                design.append([subj, m, a,\n",
    "                               delta[s], theta[s], alpha[s], beta[s], gamma[s], \n",
    "                               z_delta[s], z_theta[s], z_alpha[s], z_beta[s], z_gamma[s]\n",
    "                               ])"
   ]
  },
  {
   "cell_type": "code",
   "execution_count": null,
   "id": "549daebb",
   "metadata": {},
   "outputs": [],
   "source": [
    "# Convert into a pandas dataframe\n",
    "design_df = pd.DataFrame(design, columns=['SJ', 'mov_cond', 'arousal',\n",
    "                                          'delta', 'theta', 'alpha', 'beta', 'gamma',\n",
    "                                          'z_delta', 'z_theta', 'z_alpha', 'z_beta', 'z_gamma' \n",
    "                                          ])"
   ]
  },
  {
   "cell_type": "code",
   "execution_count": null,
   "id": "1d4ec97f",
   "metadata": {},
   "outputs": [],
   "source": [
    "# Save the design dataframe into a csv file\n",
    "filename = path_pwr_roi + 'nvr_roi_eeg_features.csv'\n",
    "design_df.to_csv(filename, index=False, na_rep ='NaN')"
   ]
  },
  {
   "cell_type": "code",
   "execution_count": null,
   "id": "e05ff77d",
   "metadata": {},
   "outputs": [],
   "source": []
  }
 ],
 "metadata": {
  "kernelspec": {
   "display_name": "Python 3 (ipykernel)",
   "language": "python",
   "name": "python3"
  },
  "language_info": {
   "codemirror_mode": {
    "name": "ipython",
    "version": 3
   },
   "file_extension": ".py",
   "mimetype": "text/x-python",
   "name": "python",
   "nbconvert_exporter": "python",
   "pygments_lexer": "ipython3",
   "version": "3.9.16"
  }
 },
 "nbformat": 4,
 "nbformat_minor": 5
}
